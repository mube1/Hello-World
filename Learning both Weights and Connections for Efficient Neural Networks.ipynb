{
 "cells": [
  {
   "cell_type": "code",
   "execution_count": 2,
   "id": "957c978a",
   "metadata": {},
   "outputs": [],
   "source": [
    "from torchvision import datasets, transforms\n",
    "import torch\n",
    "import pandas as pd\n",
    "import numpy as np\n",
    "from torch.utils.data import Dataset\n",
    "from torch import nn, optim\n",
    "import torch.nn.functional as F\n",
    "import skimage.io as io\n",
    "import matplotlib.pyplot as plt"
   ]
  },
  {
   "cell_type": "code",
   "execution_count": 3,
   "id": "7775b36e",
   "metadata": {},
   "outputs": [],
   "source": [
    "from model import LeNet\n",
    "from eval_model import evaluate_model\n",
    "import mnist_loader"
   ]
  },
  {
   "cell_type": "code",
   "execution_count": 4,
   "id": "180d1430",
   "metadata": {},
   "outputs": [],
   "source": [
    "from tqdm import tqdm"
   ]
  },
  {
   "cell_type": "code",
   "execution_count": 5,
   "id": "bf922c7f",
   "metadata": {},
   "outputs": [
    {
     "data": {
      "text/plain": [
       "LeNet(\n",
       "  (conv1): Conv2d(1, 6, kernel_size=(3, 3), stride=(1, 1))\n",
       "  (conv2): Conv2d(6, 16, kernel_size=(3, 3), stride=(1, 1))\n",
       "  (fc1): Linear(in_features=400, out_features=120, bias=True)\n",
       "  (fc2): Linear(in_features=120, out_features=84, bias=True)\n",
       "  (fc3): Linear(in_features=84, out_features=10, bias=True)\n",
       ")"
      ]
     },
     "execution_count": 5,
     "metadata": {},
     "output_type": "execute_result"
    }
   ],
   "source": [
    "model=LeNet()\n",
    "# Model class must be defined somewhere\n",
    "model = torch.load('lenet_model')\n",
    "model.eval()"
   ]
  },
  {
   "cell_type": "code",
   "execution_count": 6,
   "id": "ea7cc290",
   "metadata": {},
   "outputs": [],
   "source": [
    "learning_rate=.001\n",
    "criterion = nn.CrossEntropyLoss()\n",
    "optimizer = optim.SGD(model.parameters(), lr=learning_rate)\n",
    "epoches=20\n",
    "bs=32"
   ]
  },
  {
   "cell_type": "code",
   "execution_count": 77,
   "id": "fb1b9e40",
   "metadata": {},
   "outputs": [],
   "source": [
    "train_set, test_set=mnist_loader.get_x_and_y()"
   ]
  },
  {
   "cell_type": "code",
   "execution_count": 8,
   "id": "564232e5",
   "metadata": {},
   "outputs": [],
   "source": [
    "import torch.nn.utils.prune as prune"
   ]
  },
  {
   "cell_type": "code",
   "execution_count": 10,
   "id": "e160771a",
   "metadata": {},
   "outputs": [],
   "source": [
    "result=evaluate_model(model,test)"
   ]
  },
  {
   "cell_type": "code",
   "execution_count": 61,
   "id": "bb5c6721",
   "metadata": {},
   "outputs": [],
   "source": [
    "from train import Trainer\n",
    "train=Trainer(model, train, criterion, optimizer, epoches, 100)"
   ]
  },
  {
   "cell_type": "code",
   "execution_count": 12,
   "id": "7d76e77b",
   "metadata": {},
   "outputs": [],
   "source": [
    "baseline=result.evaluate()"
   ]
  },
  {
   "cell_type": "code",
   "execution_count": 13,
   "id": "cc057fbe",
   "metadata": {},
   "outputs": [],
   "source": [
    "baseline=int(baseline)"
   ]
  },
  {
   "cell_type": "code",
   "execution_count": 14,
   "id": "266e1530",
   "metadata": {},
   "outputs": [
    {
     "data": {
      "text/plain": [
       "<bound method Module.state_dict of LeNet(\n",
       "  (conv1): Conv2d(1, 6, kernel_size=(3, 3), stride=(1, 1))\n",
       "  (conv2): Conv2d(6, 16, kernel_size=(3, 3), stride=(1, 1))\n",
       "  (fc1): Linear(in_features=400, out_features=120, bias=True)\n",
       "  (fc2): Linear(in_features=120, out_features=84, bias=True)\n",
       "  (fc3): Linear(in_features=84, out_features=10, bias=True)\n",
       ")>"
      ]
     },
     "execution_count": 14,
     "metadata": {},
     "output_type": "execute_result"
    }
   ],
   "source": [
    "model.state_dict"
   ]
  },
  {
   "cell_type": "code",
   "execution_count": 15,
   "id": "d7eb51de",
   "metadata": {},
   "outputs": [
    {
     "data": {
      "text/plain": [
       "<generator object Module.modules at 0x7fe72b53bac0>"
      ]
     },
     "execution_count": 15,
     "metadata": {},
     "output_type": "execute_result"
    }
   ],
   "source": [
    "model.modules()"
   ]
  },
  {
   "cell_type": "code",
   "execution_count": 65,
   "id": "e74fa6ef",
   "metadata": {},
   "outputs": [],
   "source": [
    "# module_tups = []\n",
    "# for module in model.modules():\n",
    "#     module_tups.append((module, 'weight'))\n",
    "# modules=module_tups[1:]\n",
    "# modules[0].state"
   ]
  },
  {
   "cell_type": "code",
   "execution_count": 88,
   "id": "c312dd43",
   "metadata": {},
   "outputs": [],
   "source": []
  },
  {
   "cell_type": "code",
   "execution_count": 95,
   "id": "54e4583b",
   "metadata": {},
   "outputs": [],
   "source": [
    "# modules[0][0].state_dict()"
   ]
  },
  {
   "cell_type": "code",
   "execution_count": 16,
   "id": "8b6de7ef",
   "metadata": {},
   "outputs": [],
   "source": [
    "def prune_model_global_unstructured(model, layer_type, proportion):\n",
    "    module_tups = []\n",
    "    for module in model.modules():\n",
    "        if isinstance(module, layer_type):\n",
    "            module_tups.append((module, 'weight'))\n",
    "\n",
    "    prune.global_unstructured(\n",
    "        parameters=module_tups, pruning_method=prune.L1Unstructured,\n",
    "        amount=proportion\n",
    "    )\n",
    "    \n",
    "    \n",
    "    for module, _ in module_tups:\n",
    "        prune.remove(module, 'weight')\n",
    "    return model\n"
   ]
  },
  {
   "cell_type": "code",
   "execution_count": 17,
   "id": "d150ba61",
   "metadata": {},
   "outputs": [
    {
     "ename": "TypeError",
     "evalue": "prune_model_global_unstructured() missing 3 required positional arguments: 'model', 'layer_type', and 'proportion'",
     "output_type": "error",
     "traceback": [
      "\u001b[0;31m---------------------------------------------------------------------------\u001b[0m",
      "\u001b[0;31mTypeError\u001b[0m                                 Traceback (most recent call last)",
      "Input \u001b[0;32mIn [17]\u001b[0m, in \u001b[0;36m<cell line: 1>\u001b[0;34m()\u001b[0m\n\u001b[0;32m----> 1\u001b[0m \u001b[43mprune_model_global_unstructured\u001b[49m\u001b[43m(\u001b[49m\u001b[43m)\u001b[49m\n",
      "\u001b[0;31mTypeError\u001b[0m: prune_model_global_unstructured() missing 3 required positional arguments: 'model', 'layer_type', and 'proportion'"
     ]
    }
   ],
   "source": [
    "prune_model_global_unstructured()"
   ]
  },
  {
   "cell_type": "code",
   "execution_count": null,
   "id": "8f6f76a8",
   "metadata": {},
   "outputs": [],
   "source": []
  },
  {
   "cell_type": "markdown",
   "id": "3ee27ea9",
   "metadata": {},
   "source": [
    "# https://spell.ml/blog/model-pruning-in-pytorch-X9pXQRAAACIAcH9h"
   ]
  },
  {
   "cell_type": "code",
   "execution_count": 18,
   "id": "2feee04b",
   "metadata": {},
   "outputs": [],
   "source": [
    "def countZeroWeights(model):\n",
    "    zeros = 0\n",
    "    for param in model.parameters():\n",
    "        if param is not None:\n",
    "            zeros += torch.sum((param == 0).int()).item()\n",
    "    return zeros"
   ]
  },
  {
   "cell_type": "code",
   "execution_count": 118,
   "id": "baf400c4",
   "metadata": {},
   "outputs": [
    {
     "data": {
      "text/plain": [
       "59838"
      ]
     },
     "execution_count": 118,
     "metadata": {},
     "output_type": "execute_result"
    }
   ],
   "source": [
    "countZeroWeights(model)"
   ]
  },
  {
   "cell_type": "code",
   "execution_count": 19,
   "id": "51e6a975",
   "metadata": {},
   "outputs": [],
   "source": [
    "total_params = sum(p.numel() for p in model.parameters() if p.requires_grad)"
   ]
  },
  {
   "cell_type": "code",
   "execution_count": 108,
   "id": "df571151",
   "metadata": {},
   "outputs": [
    {
     "name": "stdout",
     "output_type": "stream",
     "text": [
      "torch.Size([6])\n",
      "torch.Size([6, 1, 3, 3])\n",
      "torch.Size([16])\n",
      "torch.Size([16, 6, 3, 3])\n",
      "torch.Size([120])\n",
      "torch.Size([120, 400])\n",
      "torch.Size([84])\n",
      "torch.Size([84, 120])\n",
      "torch.Size([10])\n",
      "torch.Size([10, 84])\n"
     ]
    }
   ],
   "source": [
    "for p in model.parameters() :\n",
    "    if p.requires_grad:\n",
    "        print(p.shape)"
   ]
  },
  {
   "cell_type": "code",
   "execution_count": 56,
   "id": "5692ae4d",
   "metadata": {},
   "outputs": [
    {
     "name": "stderr",
     "output_type": "stream",
     "text": [
      "\r",
      "  0%|                                                                                                                                                                                       | 0/10 [00:00<?, ?it/s]"
     ]
    },
    {
     "name": "stdout",
     "output_type": "stream",
     "text": [
      "Rate ...  0.1\n",
      "Non zero/ total ...  60073.0039284882  zeros now : 59838\n"
     ]
    },
    {
     "name": "stderr",
     "output_type": "stream",
     "text": [
      "\r",
      " 10%|█████████████████▌                                                                                                                                                             | 1/10 [00:00<00:07,  1.17it/s]"
     ]
    },
    {
     "name": "stdout",
     "output_type": "stream",
     "text": [
      "Evaluating new model ...  8.921784356871374 \n",
      "\n",
      "Rate ...  0.2\n",
      "Non zero/ total ...  60073.0039284882  zeros now : 59838\n"
     ]
    },
    {
     "name": "stderr",
     "output_type": "stream",
     "text": [
      "\r",
      " 20%|███████████████████████████████████                                                                                                                                            | 2/10 [00:01<00:05,  1.40it/s]"
     ]
    },
    {
     "name": "stdout",
     "output_type": "stream",
     "text": [
      "Evaluating new model ...  8.921784356871374 \n",
      "\n",
      "Rate ...  0.3\n",
      "Non zero/ total ...  60073.0039284882  zeros now : 59838\n"
     ]
    },
    {
     "name": "stderr",
     "output_type": "stream",
     "text": [
      "\r",
      " 30%|████████████████████████████████████████████████████▌                                                                                                                          | 3/10 [00:01<00:03,  1.76it/s]"
     ]
    },
    {
     "name": "stdout",
     "output_type": "stream",
     "text": [
      "Evaluating new model ...  8.921784356871374 \n",
      "\n",
      "Rate ...  0.4\n",
      "Non zero/ total ...  60073.0039284882  zeros now : 59838\n"
     ]
    },
    {
     "name": "stderr",
     "output_type": "stream",
     "text": [
      "\r",
      " 40%|██████████████████████████████████████████████████████████████████████                                                                                                         | 4/10 [00:01<00:02,  2.12it/s]"
     ]
    },
    {
     "name": "stdout",
     "output_type": "stream",
     "text": [
      "Evaluating new model ...  8.921784356871374 \n",
      "\n",
      "Rate ...  0.5\n",
      "Non zero/ total ...  60073.0039284882  zeros now : 59838\n"
     ]
    },
    {
     "name": "stderr",
     "output_type": "stream",
     "text": [
      "\r",
      " 50%|███████████████████████████████████████████████████████████████████████████████████████▌                                                                                       | 5/10 [00:01<00:02,  2.49it/s]"
     ]
    },
    {
     "name": "stdout",
     "output_type": "stream",
     "text": [
      "Evaluating new model ...  8.921784356871374 \n",
      "\n",
      "Rate ...  0.6\n",
      "Non zero/ total ...  60073.0039284882  zeros now : 59838\n"
     ]
    },
    {
     "name": "stderr",
     "output_type": "stream",
     "text": [
      "\r",
      " 60%|█████████████████████████████████████████████████████████████████████████████████████████████████████████                                                                      | 6/10 [00:02<00:01,  2.90it/s]"
     ]
    },
    {
     "name": "stdout",
     "output_type": "stream",
     "text": [
      "Evaluating new model ...  8.921784356871374 \n",
      "\n",
      "Rate ...  0.7\n",
      "Non zero/ total ...  60073.0039284882  zeros now : 59838\n"
     ]
    },
    {
     "name": "stderr",
     "output_type": "stream",
     "text": [
      "\r",
      " 70%|██████████████████████████████████████████████████████████████████████████████████████████████████████████████████████████▍                                                    | 7/10 [00:02<00:00,  3.14it/s]"
     ]
    },
    {
     "name": "stdout",
     "output_type": "stream",
     "text": [
      "Evaluating new model ...  8.921784356871374 \n",
      "\n",
      "Rate ...  0.8\n",
      "Non zero/ total ...  60073.0039284882  zeros now : 59838\n"
     ]
    },
    {
     "name": "stderr",
     "output_type": "stream",
     "text": [
      "\r",
      " 80%|████████████████████████████████████████████████████████████████████████████████████████████████████████████████████████████████████████████                                   | 8/10 [00:02<00:00,  3.50it/s]"
     ]
    },
    {
     "name": "stdout",
     "output_type": "stream",
     "text": [
      "Evaluating new model ...  8.921784356871374 \n",
      "\n",
      "Rate ...  0.9\n",
      "Non zero/ total ...  60073.0039284882  zeros now : 59838\n"
     ]
    },
    {
     "name": "stderr",
     "output_type": "stream",
     "text": [
      "\r",
      " 90%|█████████████████████████████████████████████████████████████████████████████████████████████████████████████████████████████████████████████████████████████▌                 | 9/10 [00:02<00:00,  3.78it/s]"
     ]
    },
    {
     "name": "stdout",
     "output_type": "stream",
     "text": [
      "Evaluating new model ...  8.921784356871374 \n",
      "\n",
      "Rate ...  1.0\n",
      "Non zero/ total ...  60073.0039284882  zeros now : 59838\n"
     ]
    },
    {
     "name": "stderr",
     "output_type": "stream",
     "text": [
      "100%|██████████████████████████████████████████████████████████████████████████████████████████████████████████████████████████████████████████████████████████████████████████████| 10/10 [00:03<00:00,  3.26it/s]"
     ]
    },
    {
     "name": "stdout",
     "output_type": "stream",
     "text": [
      "Evaluating new model ...  8.921784356871374 \n",
      "\n"
     ]
    },
    {
     "name": "stderr",
     "output_type": "stream",
     "text": [
      "\n"
     ]
    }
   ],
   "source": [
    "rates=[.1,.2,.3,.4,.5,.6,.7,.8,.9,1.0]\n",
    "Acc_trace={}\n",
    "\n",
    "for rate in tqdm(rates):\n",
    "    \n",
    "#     prune\n",
    "    modules=[]\n",
    "    \n",
    "    for module in model.modules():\n",
    "        modules.append((module, 'weight'))\n",
    "    \n",
    "    modules=modules[1:]\n",
    "    \n",
    "    print('Rate ... ',rate )\n",
    "    prune.global_unstructured(parameters=modules, pruning_method=prune.L1Unstructured,amount=rate)\n",
    "\n",
    "    zeros=countZeroWeights(model)\n",
    "    \n",
    "    print('Non zero/ total ... ', (total_params-zeros/total_params ), ' zeros now :', zeros)\n",
    "    \n",
    "    for module, _ in modules:\n",
    "        prune.remove(module, 'weight')\n",
    "    \n",
    "    result=evaluate_model(model,test)    \n",
    "\n",
    "    Acc_trace[rate]=result.evaluate()\n",
    "    print('Evaluating new model ... ',list(Acc_trace.values())[-1],'\\n')\n",
    "    \n",
    "#     check accuracy\n",
    "\n",
    "\n",
    "    '''\n",
    "    change mode to train mode\n",
    "        re-train from the existing weights\n",
    "        until accuracy is preserved\n",
    "        \n",
    "        \n",
    "    '''\n",
    "\n",
    "    "
   ]
  },
  {
   "cell_type": "code",
   "execution_count": 21,
   "id": "7dc852cb",
   "metadata": {},
   "outputs": [
    {
     "data": {
      "text/plain": [
       "dict_values([96.92938587717543, 96.81936387277456, 94.95899179835968, 91.5483096619324, 79.46589317863572, 76.3252650530106, 67.35347069413882, 31.94638927785557, 12.13242648529706, 8.921784356871374])"
      ]
     },
     "execution_count": 21,
     "metadata": {},
     "output_type": "execute_result"
    }
   ],
   "source": [
    "Acc_trace.values()"
   ]
  },
  {
   "cell_type": "code",
   "execution_count": null,
   "id": "f99b1ebb",
   "metadata": {},
   "outputs": [],
   "source": []
  },
  {
   "cell_type": "code",
   "execution_count": null,
   "id": "3d573465",
   "metadata": {},
   "outputs": [],
   "source": []
  },
  {
   "cell_type": "code",
   "execution_count": 22,
   "id": "db48c00b",
   "metadata": {},
   "outputs": [],
   "source": [
    "import matplotlib.pyplot as plt"
   ]
  },
  {
   "cell_type": "code",
   "execution_count": 32,
   "id": "2b5819da",
   "metadata": {},
   "outputs": [
    {
     "data": {
      "text/plain": [
       "[<matplotlib.lines.Line2D at 0x7fe712e42cd0>]"
      ]
     },
     "execution_count": 32,
     "metadata": {},
     "output_type": "execute_result"
    },
    {
     "data": {
      "image/png": "[encoded data removed]",
      "text/plain": [
       "<Figure size 432x288 with 1 Axes>"
      ]
     },
     "metadata": {
      "needs_background": "light"
     },
     "output_type": "display_data"
    }
   ],
   "source": [
    "plt.plot(list(Acc_trace.values()))"
   ]
  },
  {
   "cell_type": "code",
   "execution_count": 42,
   "id": "06b87faf",
   "metadata": {},
   "outputs": [
    {
     "data": {
      "text/plain": [
       "(Conv2d(1, 6, kernel_size=(3, 3), stride=(1, 1)), 'weight')"
      ]
     },
     "execution_count": 42,
     "metadata": {},
     "output_type": "execute_result"
    }
   ],
   "source": [
    "modules[0]"
   ]
  },
  {
   "cell_type": "code",
   "execution_count": 57,
   "id": "e539ac01",
   "metadata": {},
   "outputs": [],
   "source": [
    "# model.conv1.state_dict()"
   ]
  },
  {
   "cell_type": "code",
   "execution_count": 58,
   "id": "a02b7c71",
   "metadata": {},
   "outputs": [
    {
     "data": {
      "text/plain": [
       "97"
      ]
     },
     "execution_count": 58,
     "metadata": {},
     "output_type": "execute_result"
    }
   ],
   "source": [
    "baseline*5"
   ]
  },
  {
   "cell_type": "code",
   "execution_count": 79,
   "id": "a55dae1d",
   "metadata": {},
   "outputs": [],
   "source": [
    "device = torch.device(\"cuda\" if torch.cuda.is_available() else \"cpu\")"
   ]
  },
  {
   "cell_type": "code",
   "execution_count": 71,
   "id": "dffcae23",
   "metadata": {},
   "outputs": [
    {
     "name": "stderr",
     "output_type": "stream",
     "text": [
      "  0%|                                                                                                                                                                                       | 0/20 [00:00<?, ?it/s]\n"
     ]
    },
    {
     "ename": "TypeError",
     "evalue": "'Trainer' object is not iterable",
     "output_type": "error",
     "traceback": [
      "\u001b[0;31m---------------------------------------------------------------------------\u001b[0m",
      "\u001b[0;31mTypeError\u001b[0m                                 Traceback (most recent call last)",
      "Input \u001b[0;32mIn [71]\u001b[0m, in \u001b[0;36m<cell line: 1>\u001b[0;34m()\u001b[0m\n\u001b[0;32m----> 1\u001b[0m \u001b[43mtrain\u001b[49m\u001b[38;5;241;43m.\u001b[39;49m\u001b[43mtraining\u001b[49m\u001b[43m(\u001b[49m\u001b[43m)\u001b[49m\n",
      "File \u001b[0;32m/media/ube/ube/codes/learning both weights and connections/train.py:21\u001b[0m, in \u001b[0;36mtraining\u001b[0;34m(self)\u001b[0m\n\u001b[1;32m     20\u001b[0m \u001b[38;5;28;01mdef\u001b[39;00m \u001b[38;5;21mtraining\u001b[39m(\u001b[38;5;28mself\u001b[39m, regularization\u001b[38;5;241m=\u001b[39m\u001b[38;5;28mself\u001b[39m\u001b[38;5;241m.\u001b[39mregularization):\n\u001b[0;32m---> 21\u001b[0m     \u001b[38;5;28;01mfor\u001b[39;00m epoch \u001b[38;5;129;01min\u001b[39;00m tqdm(\u001b[38;5;28mrange\u001b[39m(\u001b[38;5;28mself\u001b[39m\u001b[38;5;241m.\u001b[39mepoches)):\n\u001b[1;32m     22\u001b[0m         \u001b[38;5;28;01mfor\u001b[39;00m i, (images, labels) \u001b[38;5;129;01min\u001b[39;00m tqdm(\u001b[38;5;28menumerate\u001b[39m(\u001b[38;5;28mself\u001b[39m\u001b[38;5;241m.\u001b[39mtrain_set)): \n\u001b[1;32m     23\u001b[0m             images\u001b[38;5;241m=\u001b[39mimages\u001b[38;5;241m.\u001b[39mreshape(\u001b[38;5;241m-\u001b[39m\u001b[38;5;241m1\u001b[39m,\u001b[38;5;241m1\u001b[39m,\u001b[38;5;241m28\u001b[39m,\u001b[38;5;241m28\u001b[39m)\u001b[38;5;241m.\u001b[39mfloat()\n",
      "\u001b[0;31mTypeError\u001b[0m: 'Trainer' object is not iterable"
     ]
    }
   ],
   "source": [
    "train.training()"
   ]
  },
  {
   "cell_type": "code",
   "execution_count": 82,
   "id": "bd2cc78c",
   "metadata": {},
   "outputs": [],
   "source": [
    "for epoch in range( epoches):\n",
    "        for i, (images, labels) in enumerate( train_set): \n",
    "            images=images.reshape(-1,1,28,28).float()\n",
    "            outputs =  model(images)   \n",
    "\n",
    "            labels = labels.to( device)        \n",
    "            # Forward pass\n",
    "\n",
    "            loss =  criterion(outputs, labels)\n",
    "\n",
    "\n",
    "\n",
    "      #Replaces pow(2.0) with abs() for L1 regularization\n",
    "\n",
    "#                 l2_lambda = 0.001 hyperparameters\n",
    "#                 l2_norm = sum(p.pow(2.0).sum()\n",
    "#                               for p in model.parameters())\n",
    "\n",
    "#                 loss = loss + l2_lambda * l2_norm\n",
    "\n",
    "            # Backward and optimize\n",
    "            optimizer.zero_grad()\n",
    "            loss.backward()\n",
    "            optimizer.step()\n",
    "\n",
    "        print (loss.item())"
   ]
  },
  {
   "cell_type": "code",
   "execution_count": 92,
   "id": "71651bc6",
   "metadata": {},
   "outputs": [],
   "source": [
    "# result=evaluate_model(model,test)    \n",
    "last=result.evaluate()"
   ]
  },
  {
   "cell_type": "code",
   "execution_count": 93,
   "id": "5793701b",
   "metadata": {},
   "outputs": [
    {
     "data": {
      "text/plain": [
       "3.784090151363606"
      ]
     },
     "execution_count": 93,
     "metadata": {},
     "output_type": "execute_result"
    }
   ],
   "source": [
    "last"
   ]
  },
  {
   "cell_type": "code",
   "execution_count": null,
   "id": "91b9b810",
   "metadata": {},
   "outputs": [],
   "source": []
  },
  {
   "cell_type": "code",
   "execution_count": 95,
   "id": "aef244a1",
   "metadata": {},
   "outputs": [
    {
     "name": "stderr",
     "output_type": "stream",
     "text": [
      "  0%|                                                                                                                                                                                       | 0/20 [00:00<?, ?it/s]\n"
     ]
    },
    {
     "ename": "TypeError",
     "evalue": "'Trainer' object is not iterable",
     "output_type": "error",
     "traceback": [
      "\u001b[0;31m---------------------------------------------------------------------------\u001b[0m",
      "\u001b[0;31mTypeError\u001b[0m                                 Traceback (most recent call last)",
      "Input \u001b[0;32mIn [95]\u001b[0m, in \u001b[0;36m<cell line: 1>\u001b[0;34m()\u001b[0m\n\u001b[0;32m----> 1\u001b[0m \u001b[43mtrain\u001b[49m\u001b[38;5;241;43m.\u001b[39;49m\u001b[43mtraining\u001b[49m\u001b[43m(\u001b[49m\u001b[43m)\u001b[49m\n",
      "File \u001b[0;32m/media/ube/ube/codes/learning both weights and connections/train.py:21\u001b[0m, in \u001b[0;36mtraining\u001b[0;34m(self)\u001b[0m\n\u001b[1;32m     20\u001b[0m \u001b[38;5;28;01mdef\u001b[39;00m \u001b[38;5;21mtraining\u001b[39m(\u001b[38;5;28mself\u001b[39m, regularization\u001b[38;5;241m=\u001b[39m\u001b[38;5;28mself\u001b[39m\u001b[38;5;241m.\u001b[39mregularization):\n\u001b[0;32m---> 21\u001b[0m     \u001b[38;5;28;01mfor\u001b[39;00m epoch \u001b[38;5;129;01min\u001b[39;00m tqdm(\u001b[38;5;28mrange\u001b[39m(\u001b[38;5;28mself\u001b[39m\u001b[38;5;241m.\u001b[39mepoches)):\n\u001b[1;32m     22\u001b[0m         \u001b[38;5;28;01mfor\u001b[39;00m i, (images, labels) \u001b[38;5;129;01min\u001b[39;00m tqdm(\u001b[38;5;28menumerate\u001b[39m(\u001b[38;5;28mself\u001b[39m\u001b[38;5;241m.\u001b[39mtrain_set)): \n\u001b[1;32m     23\u001b[0m             images\u001b[38;5;241m=\u001b[39mimages\u001b[38;5;241m.\u001b[39mreshape(\u001b[38;5;241m-\u001b[39m\u001b[38;5;241m1\u001b[39m,\u001b[38;5;241m1\u001b[39m,\u001b[38;5;241m28\u001b[39m,\u001b[38;5;241m28\u001b[39m)\u001b[38;5;241m.\u001b[39mfloat()\n",
      "\u001b[0;31mTypeError\u001b[0m: 'Trainer' object is not iterable"
     ]
    }
   ],
   "source": [
    "train.training()"
   ]
  },
  {
   "cell_type": "code",
   "execution_count": 100,
   "id": "77925d78",
   "metadata": {},
   "outputs": [
    {
     "data": {
      "text/plain": [
       "4.8500000000000005"
      ]
     },
     "execution_count": 100,
     "metadata": {},
     "output_type": "execute_result"
    }
   ],
   "source": [
    "baseline*.05"
   ]
  },
  {
   "cell_type": "code",
   "execution_count": 111,
   "id": "010ac474",
   "metadata": {},
   "outputs": [],
   "source": [
    "def train_model():\n",
    "    for epoch in range( epoches):\n",
    "        for i, (images, labels) in enumerate( train_set): \n",
    "            images=images.reshape(-1,1,28,28).float()\n",
    "            outputs =  model(images)   \n",
    "\n",
    "            labels = labels.to( device)        \n",
    "            # Forward pass\n",
    "\n",
    "            loss =  criterion(outputs, labels)\n",
    "\n",
    "\n",
    "\n",
    "      #Replaces pow(2.0) with abs() for L1 regularization\n",
    "\n",
    "#                 l2_lambda = 0.001 hyperparameters\n",
    "#                 l2_norm = sum(p.pow(2.0).sum()\n",
    "#                               for p in model.parameters())\n",
    "\n",
    "#                 loss = loss + l2_lambda * l2_norm\n",
    "\n",
    "            # Backward and optimize\n",
    "            optimizer.zero_grad()\n",
    "            loss.backward()\n",
    "            optimizer.step()\n",
    "        print('Epoch : ', loss.item())"
   ]
  },
  {
   "cell_type": "code",
   "execution_count": 112,
   "id": "b74937f6",
   "metadata": {},
   "outputs": [
    {
     "name": "stdout",
     "output_type": "stream",
     "text": [
      "Epoch :  2.306302785873413\n",
      "Epoch :  2.3063762187957764\n",
      "Epoch :  2.3064446449279785\n",
      "Epoch :  2.306509256362915\n",
      "Epoch :  2.3065695762634277\n",
      "Epoch :  2.306626558303833\n",
      "Epoch :  2.3066799640655518\n",
      "Epoch :  2.306729793548584\n",
      "Epoch :  2.306776762008667\n",
      "Epoch :  2.30682110786438\n",
      "Epoch :  2.3068623542785645\n",
      "Epoch :  2.306901454925537\n",
      "Epoch :  2.3069381713867188\n",
      "Epoch :  2.3069722652435303\n",
      "Epoch :  2.307004690170288\n",
      "Epoch :  2.307034492492676\n",
      "Epoch :  2.307063102722168\n",
      "Epoch :  2.3070898056030273\n",
      "Epoch :  2.307114362716675\n",
      "Epoch :  2.3071377277374268\n"
     ]
    }
   ],
   "source": [
    "#     return model  \n",
    "accuracy=0\n",
    "bear=5\n",
    "train=Trainer(model, train, criterion, optimizer, epoches, 100)\n",
    "\n",
    "while accuracy <baseline*(bear/100):\n",
    "    \n",
    "    \n",
    "    train_model()    \n",
    "    \n",
    "    \n",
    "#     train\n",
    "#         until accuracy is recovered\n",
    "#     train.training()\n",
    "\n",
    "    #      eval\n",
    "    result=evaluate_model(model,test)  \n",
    "    accuracy=result.evaluate()\n",
    "#     Acc_trace[rate]=result.evaluate()\n",
    "\n",
    "\n",
    "#     check percentage of prunned\n",
    "    \n",
    "#     if done break"
   ]
  },
  {
   "cell_type": "code",
   "execution_count": null,
   "id": "408e9ca9",
   "metadata": {},
   "outputs": [],
   "source": [
    "model."
   ]
  },
  {
   "cell_type": "code",
   "execution_count": 117,
   "id": "c7d1f6e4",
   "metadata": {
    "scrolled": true
   },
   "outputs": [],
   "source": [
    "eval_model=evaluate_model(model,test)"
   ]
  },
  {
   "cell_type": "code",
   "execution_count": 118,
   "id": "b165ca9d",
   "metadata": {},
   "outputs": [],
   "source": [
    "acc=eval_model.evaluate()"
   ]
  },
  {
   "cell_type": "code",
   "execution_count": 119,
   "id": "cb8c16de",
   "metadata": {},
   "outputs": [
    {
     "data": {
      "text/plain": [
       "11.352270454090819"
      ]
     },
     "execution_count": 119,
     "metadata": {},
     "output_type": "execute_result"
    }
   ],
   "source": [
    "acc"
   ]
  },
  {
   "cell_type": "code",
   "execution_count": 123,
   "id": "9a103f58",
   "metadata": {},
   "outputs": [
    {
     "data": {
      "text/plain": [
       "OrderedDict([('bias',\n",
       "              tensor([ 0.0322, -0.1876, -0.0309,  0.1002,  0.0660, -0.1587])),\n",
       "             ('weight',\n",
       "              tensor([[[[-1.9875e-17, -2.0083e-17, -2.1958e-17],\n",
       "                        [-2.3534e-17, -2.4027e-17, -2.6104e-17],\n",
       "                        [-2.7412e-17, -2.7924e-17, -3.0297e-17]]],\n",
       "              \n",
       "              \n",
       "                      [[[-0.0000e+00,  0.0000e+00,  0.0000e+00],\n",
       "                        [ 0.0000e+00,  0.0000e+00,  0.0000e+00],\n",
       "                        [-0.0000e+00, -0.0000e+00, -0.0000e+00]]],\n",
       "              \n",
       "              \n",
       "                      [[[ 0.0000e+00,  0.0000e+00, -0.0000e+00],\n",
       "                        [-0.0000e+00, -0.0000e+00,  0.0000e+00],\n",
       "                        [-0.0000e+00,  0.0000e+00,  0.0000e+00]]],\n",
       "              \n",
       "              \n",
       "                      [[[-6.1803e-17, -6.2451e-17, -6.8279e-17],\n",
       "                        [-7.3182e-17, -7.4714e-17, -8.1173e-17],\n",
       "                        [-8.5239e-17, -8.6831e-17, -9.4212e-17]]],\n",
       "              \n",
       "              \n",
       "                      [[[-4.0688e-17, -4.1115e-17, -4.4953e-17],\n",
       "                        [-4.8180e-17, -4.9189e-17, -5.3442e-17],\n",
       "                        [-5.6118e-17, -5.7167e-17, -6.2025e-17]]],\n",
       "              \n",
       "              \n",
       "                      [[[ 0.0000e+00, -0.0000e+00,  0.0000e+00],\n",
       "                        [ 0.0000e+00, -0.0000e+00,  0.0000e+00],\n",
       "                        [ 0.0000e+00,  0.0000e+00,  0.0000e+00]]]]))])"
      ]
     },
     "execution_count": 123,
     "metadata": {},
     "output_type": "execute_result"
    }
   ],
   "source": [
    "modules[0][0].state_dict()"
   ]
  },
  {
   "cell_type": "code",
   "execution_count": null,
   "id": "1e5134cd",
   "metadata": {},
   "outputs": [],
   "source": []
  }
 ],
 "metadata": {
  "kernelspec": {
   "display_name": "Python 3 (ipykernel)",
   "language": "python",
   "name": "python3"
  },
  "language_info": {
   "codemirror_mode": {
    "name": "ipython",
    "version": 3
   },
   "file_extension": ".py",
   "mimetype": "text/x-python",
   "name": "python",
   "nbconvert_exporter": "python",
   "pygments_lexer": "ipython3",
   "version": "3.8.10"
  }
 },
 "nbformat": 4,
 "nbformat_minor": 5
}
